{
 "cells": [
  {
   "cell_type": "code",
   "execution_count": 1,
   "metadata": {},
   "outputs": [],
   "source": [
    "import cv2\n",
    "import os\n",
    "from PIL import Image\n",
    "from PIL import ImageEnhance\n",
    "import numpy as np\n",
    "import random"
   ]
  },
  {
   "cell_type": "code",
   "execution_count": 2,
   "metadata": {},
   "outputs": [],
   "source": [
    "#翻转和旋转图像\n",
    "'''\n",
    "path1: 原图路径\n",
    "path2: 抠过的图的路径\n",
    "dest1: 原图保存路径\n",
    "dest2: 抠过的图保存路径\n",
    "\n",
    "'''\n",
    "def enhanceimage1(path1, path2, dest1,dest2):\n",
    "    for path in [path1, path2]:\n",
    "        angle = 0\n",
    "        count = 1 #计数器\n",
    "        #旋转图片\n",
    "        for pic_path in os.listdir(path):\n",
    "            pic = cv2.imread(path+'/'+pic_path) #读入图片\n",
    "            pic = cv2.flip(pic, 1)\n",
    "            row,col = pic.shape[:2]\n",
    "            M = cv2.getRotationMatrix2D((col/2,row/2), angle, 1) #旋转的中心，角度，和放缩\n",
    "            a = cv2.warpAffine(pic,M,(row,col))\n",
    "            count = count + 1        \n",
    "            if path == path1:\n",
    "#                cv2.imwrite(new_path1+'{}'.format(count) + '.jpg', a)   \n",
    "                cv2.imwrite(dest1 + '/'+pic_path,a)\n",
    "                angle = angle+3  \n",
    "            if path == path2:\n",
    "#                cv2.imwrite(new_path2+'{}'.format(count) + '.png', a)   \n",
    "                cv2.imwrite(dest2 + '/'+pic_path,a)\n",
    "                angle = angle+3"
   ]
  },
  {
   "cell_type": "code",
   "execution_count": 3,
   "metadata": {},
   "outputs": [],
   "source": [
    "def sp_noise(path, prob, dest):\n",
    "    '''\n",
    "    添加椒盐噪声\n",
    "    path:路径\n",
    "    prob:噪声比例\n",
    "    dest:输出地址\n",
    "    '''\n",
    "    for pic_path in os.listdir(path):\n",
    "        image = cv2.imread(path+'/'+pic_path)\n",
    "        output = np.zeros(image.shape, np.uint8)\n",
    "        noise_out = np.zeros(image.shape, np.uint8)\n",
    "        thres = 1 - prob\n",
    "        for i in range(image.shape[0]):\n",
    "            for j in range(image.shape[1]):\n",
    "                rdn = random.random()  # 随机生成0-1之间的数字\n",
    "                if rdn < prob:  # 如果生成的随机数小于噪声比例则将该像素点添加黑点，即椒噪声\n",
    "                    output[i][j] = 0\n",
    "                    noise_out[i][j] = 0\n",
    "                elif rdn > thres:  # 如果生成的随机数大于（1-噪声比例）则将该像素点添加白点，即盐噪声\n",
    "                    output[i][j] = 255\n",
    "                    noise_out[i][j] = 255\n",
    "                else:\n",
    "                    output[i][j] = image[i][j]  # 其他情况像素点不变\n",
    "                    #noise_out[i][j] = 100\n",
    "        cv2.imwrite('./' + dest + '/' + pic_path,output)"
   ]
  },
  {
   "cell_type": "code",
   "execution_count": null,
   "metadata": {},
   "outputs": [],
   "source": [
    "enhanceimage1('./JPEGImages', './SegmentationClass', './IGS_AFT1','./SEG_AFT')\n",
    "# 需要放在VOC2007文件夹里"
   ]
  },
  {
   "cell_type": "code",
   "execution_count": null,
   "metadata": {},
   "outputs": [],
   "source": [
    "sp_noise('./IGS_AFT1', 0.05, './IGSAFT2')"
   ]
  }
 ],
 "metadata": {
  "kernelspec": {
   "display_name": "Python 3",
   "language": "python",
   "name": "python3"
  },
  "language_info": {
   "codemirror_mode": {
    "name": "ipython",
    "version": 3
   },
   "file_extension": ".py",
   "mimetype": "text/x-python",
   "name": "python",
   "nbconvert_exporter": "python",
   "pygments_lexer": "ipython3",
   "version": "3.7.2"
  }
 },
 "nbformat": 4,
 "nbformat_minor": 2
}
